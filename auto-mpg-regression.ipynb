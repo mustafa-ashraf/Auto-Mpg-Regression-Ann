{
 "cells": [
  {
   "cell_type": "markdown",
   "id": "369858ab",
   "metadata": {
    "execution": {
     "iopub.execute_input": "2022-10-14T23:59:47.091638Z",
     "iopub.status.busy": "2022-10-14T23:59:47.091347Z",
     "iopub.status.idle": "2022-10-14T23:59:47.113747Z",
     "shell.execute_reply": "2022-10-14T23:59:47.112844Z",
     "shell.execute_reply.started": "2022-10-14T23:59:47.091575Z"
    },
    "papermill": {
     "duration": 0.013312,
     "end_time": "2022-10-15T11:29:58.330526",
     "exception": false,
     "start_time": "2022-10-15T11:29:58.317214",
     "status": "completed"
    },
    "tags": []
   },
   "source": [
    "<div style=\"color:white;font-size:50px;font-weight:bolder;background-color:black;text-align:center;padding:15px 0px;border-radius:20px\">cars mpg regression</div> "
   ]
  },
  {
   "cell_type": "markdown",
   "id": "4e1a8e13",
   "metadata": {
    "papermill": {
     "duration": 0.009264,
     "end_time": "2022-10-15T11:29:58.350012",
     "exception": false,
     "start_time": "2022-10-15T11:29:58.340748",
     "status": "completed"
    },
    "tags": []
   },
   "source": [
    "![](https://images.cars.com/cldstatic/wp-content/uploads/best-car-mileage-for-2022-scaled.jpg)"
   ]
  },
  {
   "cell_type": "markdown",
   "id": "629544a4",
   "metadata": {
    "papermill": {
     "duration": 0.009158,
     "end_time": "2022-10-15T11:29:58.368785",
     "exception": false,
     "start_time": "2022-10-15T11:29:58.359627",
     "status": "completed"
    },
    "tags": []
   },
   "source": [
    "<div style=\"color:white;font-size:25px;font-weight:bolder;background-color:black;text-align:center;padding:15px 0px;border-radius:20px\">Reading data</div> "
   ]
  },
  {
   "cell_type": "markdown",
   "id": "a4437de4",
   "metadata": {
    "papermill": {
     "duration": 0.009256,
     "end_time": "2022-10-15T11:29:58.389520",
     "exception": false,
     "start_time": "2022-10-15T11:29:58.380264",
     "status": "completed"
    },
    "tags": []
   },
   "source": [
    "# Dataset information\n",
    "This dataset was taken from the StatLib library which is maintained at Carnegie Mellon University. The dataset was used in the 1983 American Statistical Association Exposition. Data Set Information:​This dataset is a slightly modified version of the dataset provided in the StatLib library. In line with the use by Ross Quinlan (1993) in predicting the attribute \"mpg\", 8 of the original instances were removed because they had unknown values for the \"mpg\" attribute. The original dataset is available in the file \"auto-mpg.data-original\".​\"The data concerns city-cycle fuel consumption in miles per gallon, to be predicted in terms of 3 multivalued discrete and 5 continuous attributes.\" (Quinlan, 1993)\n"
   ]
  },
  {
   "cell_type": "markdown",
   "id": "c88eb3d1",
   "metadata": {
    "papermill": {
     "duration": 0.009245,
     "end_time": "2022-10-15T11:29:58.408325",
     "exception": false,
     "start_time": "2022-10-15T11:29:58.399080",
     "status": "completed"
    },
    "tags": []
   },
   "source": [
    "<div style=\"color:blue;font-size:20px;font-weight:bolder\">Import The Main Libiraries</div> "
   ]
  },
  {
   "cell_type": "code",
   "execution_count": 1,
   "id": "df5bae54",
   "metadata": {
    "execution": {
     "iopub.execute_input": "2022-10-15T11:29:58.430720Z",
     "iopub.status.busy": "2022-10-15T11:29:58.429366Z",
     "iopub.status.idle": "2022-10-15T11:30:00.784007Z",
     "shell.execute_reply": "2022-10-15T11:30:00.782772Z"
    },
    "papermill": {
     "duration": 2.369107,
     "end_time": "2022-10-15T11:30:00.787344",
     "exception": false,
     "start_time": "2022-10-15T11:29:58.418237",
     "status": "completed"
    },
    "tags": []
   },
   "outputs": [],
   "source": [
    "# Most important libiraries\n",
    "import numpy as np\n",
    "import pandas as pd \n",
    "import matplotlib.pyplot as plt\n",
    "import seaborn as sns\n",
    "from sklearn.preprocessing import LabelEncoder\n",
    "import missingno as msno\n",
    "import warnings\n",
    "warnings.filterwarnings(\"ignore\")\n",
    "import os\n",
    "import plotly.express as px"
   ]
  },
  {
   "cell_type": "markdown",
   "id": "65dbf424",
   "metadata": {
    "papermill": {
     "duration": 0.009202,
     "end_time": "2022-10-15T11:30:00.806256",
     "exception": false,
     "start_time": "2022-10-15T11:30:00.797054",
     "status": "completed"
    },
    "tags": []
   },
   "source": [
    "<div style=\"color:blue;font-size:20px;font-weight:bolder\">Load The DataSet</div> "
   ]
  },
  {
   "cell_type": "code",
   "execution_count": 2,
   "id": "c36e8347",
   "metadata": {
    "execution": {
     "iopub.execute_input": "2022-10-15T11:30:00.827888Z",
     "iopub.status.busy": "2022-10-15T11:30:00.827424Z",
     "iopub.status.idle": "2022-10-15T11:30:00.853145Z",
     "shell.execute_reply": "2022-10-15T11:30:00.851905Z"
    },
    "papermill": {
     "duration": 0.039878,
     "end_time": "2022-10-15T11:30:00.856086",
     "exception": false,
     "start_time": "2022-10-15T11:30:00.816208",
     "status": "completed"
    },
    "tags": []
   },
   "outputs": [],
   "source": [
    "## Read the Csv file\n",
    "data = pd.read_csv(\"../input/autompg-dataset/auto-mpg.csv\")"
   ]
  },
  {
   "cell_type": "code",
   "execution_count": 3,
   "id": "c74b69c1",
   "metadata": {
    "execution": {
     "iopub.execute_input": "2022-10-15T11:30:00.877822Z",
     "iopub.status.busy": "2022-10-15T11:30:00.877088Z",
     "iopub.status.idle": "2022-10-15T11:30:00.882255Z",
     "shell.execute_reply": "2022-10-15T11:30:00.881077Z"
    },
    "papermill": {
     "duration": 0.018774,
     "end_time": "2022-10-15T11:30:00.884642",
     "exception": false,
     "start_time": "2022-10-15T11:30:00.865868",
     "status": "completed"
    },
    "tags": []
   },
   "outputs": [],
   "source": [
    "# Take a copy from dataframe to \"df\"\n",
    "df=data.copy()"
   ]
  },
  {
   "cell_type": "markdown",
   "id": "60621ad4",
   "metadata": {
    "papermill": {
     "duration": 0.009151,
     "end_time": "2022-10-15T11:30:00.903799",
     "exception": false,
     "start_time": "2022-10-15T11:30:00.894648",
     "status": "completed"
    },
    "tags": []
   },
   "source": [
    "<div style=\"color:blue;font-size:20px;font-weight:bolder\">Inspect The Data</div> "
   ]
  },
  {
   "cell_type": "code",
   "execution_count": 4,
   "id": "d4f47034",
   "metadata": {
    "execution": {
     "iopub.execute_input": "2022-10-15T11:30:00.925249Z",
     "iopub.status.busy": "2022-10-15T11:30:00.924270Z",
     "iopub.status.idle": "2022-10-15T11:30:00.948736Z",
     "shell.execute_reply": "2022-10-15T11:30:00.947274Z"
    },
    "papermill": {
     "duration": 0.038313,
     "end_time": "2022-10-15T11:30:00.951768",
     "exception": false,
     "start_time": "2022-10-15T11:30:00.913455",
     "status": "completed"
    },
    "tags": []
   },
   "outputs": [
    {
     "data": {
      "text/html": [
       "<div>\n",
       "<style scoped>\n",
       "    .dataframe tbody tr th:only-of-type {\n",
       "        vertical-align: middle;\n",
       "    }\n",
       "\n",
       "    .dataframe tbody tr th {\n",
       "        vertical-align: top;\n",
       "    }\n",
       "\n",
       "    .dataframe thead th {\n",
       "        text-align: right;\n",
       "    }\n",
       "</style>\n",
       "<table border=\"1\" class=\"dataframe\">\n",
       "  <thead>\n",
       "    <tr style=\"text-align: right;\">\n",
       "      <th></th>\n",
       "      <th>mpg</th>\n",
       "      <th>cylinders</th>\n",
       "      <th>displacement</th>\n",
       "      <th>horsepower</th>\n",
       "      <th>weight</th>\n",
       "      <th>acceleration</th>\n",
       "      <th>model year</th>\n",
       "      <th>origin</th>\n",
       "      <th>car name</th>\n",
       "    </tr>\n",
       "  </thead>\n",
       "  <tbody>\n",
       "    <tr>\n",
       "      <th>0</th>\n",
       "      <td>18.0</td>\n",
       "      <td>8</td>\n",
       "      <td>307.0</td>\n",
       "      <td>130</td>\n",
       "      <td>3504</td>\n",
       "      <td>12.0</td>\n",
       "      <td>70</td>\n",
       "      <td>1</td>\n",
       "      <td>chevrolet chevelle malibu</td>\n",
       "    </tr>\n",
       "    <tr>\n",
       "      <th>1</th>\n",
       "      <td>15.0</td>\n",
       "      <td>8</td>\n",
       "      <td>350.0</td>\n",
       "      <td>165</td>\n",
       "      <td>3693</td>\n",
       "      <td>11.5</td>\n",
       "      <td>70</td>\n",
       "      <td>1</td>\n",
       "      <td>buick skylark 320</td>\n",
       "    </tr>\n",
       "    <tr>\n",
       "      <th>2</th>\n",
       "      <td>18.0</td>\n",
       "      <td>8</td>\n",
       "      <td>318.0</td>\n",
       "      <td>150</td>\n",
       "      <td>3436</td>\n",
       "      <td>11.0</td>\n",
       "      <td>70</td>\n",
       "      <td>1</td>\n",
       "      <td>plymouth satellite</td>\n",
       "    </tr>\n",
       "    <tr>\n",
       "      <th>3</th>\n",
       "      <td>16.0</td>\n",
       "      <td>8</td>\n",
       "      <td>304.0</td>\n",
       "      <td>150</td>\n",
       "      <td>3433</td>\n",
       "      <td>12.0</td>\n",
       "      <td>70</td>\n",
       "      <td>1</td>\n",
       "      <td>amc rebel sst</td>\n",
       "    </tr>\n",
       "    <tr>\n",
       "      <th>4</th>\n",
       "      <td>17.0</td>\n",
       "      <td>8</td>\n",
       "      <td>302.0</td>\n",
       "      <td>140</td>\n",
       "      <td>3449</td>\n",
       "      <td>10.5</td>\n",
       "      <td>70</td>\n",
       "      <td>1</td>\n",
       "      <td>ford torino</td>\n",
       "    </tr>\n",
       "  </tbody>\n",
       "</table>\n",
       "</div>"
      ],
      "text/plain": [
       "    mpg  cylinders  displacement horsepower  weight  acceleration  model year  \\\n",
       "0  18.0          8         307.0        130    3504          12.0          70   \n",
       "1  15.0          8         350.0        165    3693          11.5          70   \n",
       "2  18.0          8         318.0        150    3436          11.0          70   \n",
       "3  16.0          8         304.0        150    3433          12.0          70   \n",
       "4  17.0          8         302.0        140    3449          10.5          70   \n",
       "\n",
       "   origin                   car name  \n",
       "0       1  chevrolet chevelle malibu  \n",
       "1       1          buick skylark 320  \n",
       "2       1         plymouth satellite  \n",
       "3       1              amc rebel sst  \n",
       "4       1                ford torino  "
      ]
     },
     "execution_count": 4,
     "metadata": {},
     "output_type": "execute_result"
    }
   ],
   "source": [
    "# Show the head of the dataFrame \n",
    "df.head()"
   ]
  },
  {
   "cell_type": "code",
   "execution_count": 5,
   "id": "366d9ab1",
   "metadata": {
    "execution": {
     "iopub.execute_input": "2022-10-15T11:30:00.974473Z",
     "iopub.status.busy": "2022-10-15T11:30:00.973295Z",
     "iopub.status.idle": "2022-10-15T11:30:00.989677Z",
     "shell.execute_reply": "2022-10-15T11:30:00.988451Z"
    },
    "papermill": {
     "duration": 0.030168,
     "end_time": "2022-10-15T11:30:00.992145",
     "exception": false,
     "start_time": "2022-10-15T11:30:00.961977",
     "status": "completed"
    },
    "tags": []
   },
   "outputs": [
    {
     "data": {
      "text/html": [
       "<div>\n",
       "<style scoped>\n",
       "    .dataframe tbody tr th:only-of-type {\n",
       "        vertical-align: middle;\n",
       "    }\n",
       "\n",
       "    .dataframe tbody tr th {\n",
       "        vertical-align: top;\n",
       "    }\n",
       "\n",
       "    .dataframe thead th {\n",
       "        text-align: right;\n",
       "    }\n",
       "</style>\n",
       "<table border=\"1\" class=\"dataframe\">\n",
       "  <thead>\n",
       "    <tr style=\"text-align: right;\">\n",
       "      <th></th>\n",
       "      <th>mpg</th>\n",
       "      <th>cylinders</th>\n",
       "      <th>displacement</th>\n",
       "      <th>horsepower</th>\n",
       "      <th>weight</th>\n",
       "      <th>acceleration</th>\n",
       "      <th>model year</th>\n",
       "      <th>origin</th>\n",
       "      <th>car name</th>\n",
       "    </tr>\n",
       "  </thead>\n",
       "  <tbody>\n",
       "    <tr>\n",
       "      <th>393</th>\n",
       "      <td>27.0</td>\n",
       "      <td>4</td>\n",
       "      <td>140.0</td>\n",
       "      <td>86</td>\n",
       "      <td>2790</td>\n",
       "      <td>15.6</td>\n",
       "      <td>82</td>\n",
       "      <td>1</td>\n",
       "      <td>ford mustang gl</td>\n",
       "    </tr>\n",
       "    <tr>\n",
       "      <th>394</th>\n",
       "      <td>44.0</td>\n",
       "      <td>4</td>\n",
       "      <td>97.0</td>\n",
       "      <td>52</td>\n",
       "      <td>2130</td>\n",
       "      <td>24.6</td>\n",
       "      <td>82</td>\n",
       "      <td>2</td>\n",
       "      <td>vw pickup</td>\n",
       "    </tr>\n",
       "    <tr>\n",
       "      <th>395</th>\n",
       "      <td>32.0</td>\n",
       "      <td>4</td>\n",
       "      <td>135.0</td>\n",
       "      <td>84</td>\n",
       "      <td>2295</td>\n",
       "      <td>11.6</td>\n",
       "      <td>82</td>\n",
       "      <td>1</td>\n",
       "      <td>dodge rampage</td>\n",
       "    </tr>\n",
       "    <tr>\n",
       "      <th>396</th>\n",
       "      <td>28.0</td>\n",
       "      <td>4</td>\n",
       "      <td>120.0</td>\n",
       "      <td>79</td>\n",
       "      <td>2625</td>\n",
       "      <td>18.6</td>\n",
       "      <td>82</td>\n",
       "      <td>1</td>\n",
       "      <td>ford ranger</td>\n",
       "    </tr>\n",
       "    <tr>\n",
       "      <th>397</th>\n",
       "      <td>31.0</td>\n",
       "      <td>4</td>\n",
       "      <td>119.0</td>\n",
       "      <td>82</td>\n",
       "      <td>2720</td>\n",
       "      <td>19.4</td>\n",
       "      <td>82</td>\n",
       "      <td>1</td>\n",
       "      <td>chevy s-10</td>\n",
       "    </tr>\n",
       "  </tbody>\n",
       "</table>\n",
       "</div>"
      ],
      "text/plain": [
       "      mpg  cylinders  displacement horsepower  weight  acceleration  \\\n",
       "393  27.0          4         140.0         86    2790          15.6   \n",
       "394  44.0          4          97.0         52    2130          24.6   \n",
       "395  32.0          4         135.0         84    2295          11.6   \n",
       "396  28.0          4         120.0         79    2625          18.6   \n",
       "397  31.0          4         119.0         82    2720          19.4   \n",
       "\n",
       "     model year  origin         car name  \n",
       "393          82       1  ford mustang gl  \n",
       "394          82       2        vw pickup  \n",
       "395          82       1    dodge rampage  \n",
       "396          82       1      ford ranger  \n",
       "397          82       1       chevy s-10  "
      ]
     },
     "execution_count": 5,
     "metadata": {},
     "output_type": "execute_result"
    }
   ],
   "source": [
    "# Show the Tail of the dataFrame \n",
    "df.tail()"
   ]
  },
  {
   "cell_type": "markdown",
   "id": "0df0223e",
   "metadata": {
    "execution": {
     "iopub.execute_input": "2022-10-15T00:10:59.662260Z",
     "iopub.status.busy": "2022-10-15T00:10:59.661966Z",
     "iopub.status.idle": "2022-10-15T00:10:59.667704Z",
     "shell.execute_reply": "2022-10-15T00:10:59.666568Z",
     "shell.execute_reply.started": "2022-10-15T00:10:59.662237Z"
    },
    "papermill": {
     "duration": 0.009866,
     "end_time": "2022-10-15T11:30:01.012213",
     "exception": false,
     "start_time": "2022-10-15T11:30:01.002347",
     "status": "completed"
    },
    "tags": []
   },
   "source": [
    "<div style=\"color:blue;font-size:20px;font-weight:bolder\">Explore The Data</div> "
   ]
  },
  {
   "cell_type": "code",
   "execution_count": 6,
   "id": "146ab6b1",
   "metadata": {
    "execution": {
     "iopub.execute_input": "2022-10-15T11:30:01.034910Z",
     "iopub.status.busy": "2022-10-15T11:30:01.033883Z",
     "iopub.status.idle": "2022-10-15T11:30:01.040772Z",
     "shell.execute_reply": "2022-10-15T11:30:01.039695Z"
    },
    "papermill": {
     "duration": 0.02047,
     "end_time": "2022-10-15T11:30:01.042969",
     "exception": false,
     "start_time": "2022-10-15T11:30:01.022499",
     "status": "completed"
    },
    "tags": []
   },
   "outputs": [
    {
     "data": {
      "text/plain": [
       "(398, 9)"
      ]
     },
     "execution_count": 6,
     "metadata": {},
     "output_type": "execute_result"
    }
   ],
   "source": [
    "# Number of rows and columns \n",
    "df.shape"
   ]
  },
  {
   "cell_type": "code",
   "execution_count": 7,
   "id": "59af4682",
   "metadata": {
    "execution": {
     "iopub.execute_input": "2022-10-15T11:30:01.066287Z",
     "iopub.status.busy": "2022-10-15T11:30:01.065392Z",
     "iopub.status.idle": "2022-10-15T11:30:01.094336Z",
     "shell.execute_reply": "2022-10-15T11:30:01.093480Z"
    },
    "papermill": {
     "duration": 0.043724,
     "end_time": "2022-10-15T11:30:01.097145",
     "exception": false,
     "start_time": "2022-10-15T11:30:01.053421",
     "status": "completed"
    },
    "tags": []
   },
   "outputs": [
    {
     "data": {
      "text/html": [
       "<div>\n",
       "<style scoped>\n",
       "    .dataframe tbody tr th:only-of-type {\n",
       "        vertical-align: middle;\n",
       "    }\n",
       "\n",
       "    .dataframe tbody tr th {\n",
       "        vertical-align: top;\n",
       "    }\n",
       "\n",
       "    .dataframe thead th {\n",
       "        text-align: right;\n",
       "    }\n",
       "</style>\n",
       "<table border=\"1\" class=\"dataframe\">\n",
       "  <thead>\n",
       "    <tr style=\"text-align: right;\">\n",
       "      <th></th>\n",
       "      <th>column</th>\n",
       "      <th>dtypes</th>\n",
       "      <th>nunique</th>\n",
       "      <th>sum_null</th>\n",
       "    </tr>\n",
       "  </thead>\n",
       "  <tbody>\n",
       "    <tr>\n",
       "      <th>0</th>\n",
       "      <td>mpg</td>\n",
       "      <td>float64</td>\n",
       "      <td>129</td>\n",
       "      <td>0</td>\n",
       "    </tr>\n",
       "    <tr>\n",
       "      <th>1</th>\n",
       "      <td>cylinders</td>\n",
       "      <td>int64</td>\n",
       "      <td>5</td>\n",
       "      <td>0</td>\n",
       "    </tr>\n",
       "    <tr>\n",
       "      <th>2</th>\n",
       "      <td>displacement</td>\n",
       "      <td>float64</td>\n",
       "      <td>82</td>\n",
       "      <td>0</td>\n",
       "    </tr>\n",
       "    <tr>\n",
       "      <th>3</th>\n",
       "      <td>horsepower</td>\n",
       "      <td>object</td>\n",
       "      <td>94</td>\n",
       "      <td>0</td>\n",
       "    </tr>\n",
       "    <tr>\n",
       "      <th>4</th>\n",
       "      <td>weight</td>\n",
       "      <td>int64</td>\n",
       "      <td>351</td>\n",
       "      <td>0</td>\n",
       "    </tr>\n",
       "    <tr>\n",
       "      <th>5</th>\n",
       "      <td>acceleration</td>\n",
       "      <td>float64</td>\n",
       "      <td>95</td>\n",
       "      <td>0</td>\n",
       "    </tr>\n",
       "    <tr>\n",
       "      <th>6</th>\n",
       "      <td>model year</td>\n",
       "      <td>int64</td>\n",
       "      <td>13</td>\n",
       "      <td>0</td>\n",
       "    </tr>\n",
       "    <tr>\n",
       "      <th>7</th>\n",
       "      <td>origin</td>\n",
       "      <td>int64</td>\n",
       "      <td>3</td>\n",
       "      <td>0</td>\n",
       "    </tr>\n",
       "    <tr>\n",
       "      <th>8</th>\n",
       "      <td>car name</td>\n",
       "      <td>object</td>\n",
       "      <td>305</td>\n",
       "      <td>0</td>\n",
       "    </tr>\n",
       "  </tbody>\n",
       "</table>\n",
       "</div>"
      ],
      "text/plain": [
       "         column   dtypes  nunique  sum_null\n",
       "0           mpg  float64      129         0\n",
       "1     cylinders    int64        5         0\n",
       "2  displacement  float64       82         0\n",
       "3    horsepower   object       94         0\n",
       "4        weight    int64      351         0\n",
       "5  acceleration  float64       95         0\n",
       "6    model year    int64       13         0\n",
       "7        origin    int64        3         0\n",
       "8      car name   object      305         0"
      ]
     },
     "execution_count": 7,
     "metadata": {},
     "output_type": "execute_result"
    }
   ],
   "source": [
    "# Summary to all columns \n",
    "def check(df):\n",
    "    l=[]\n",
    "    columns=df.columns\n",
    "    for col in columns:\n",
    "        dtypes=df[col].dtypes\n",
    "        nunique=df[col].nunique()\n",
    "        sum_null=df[col].isnull().sum()\n",
    "        l.append([col,dtypes,nunique,sum_null])\n",
    "    df_check=pd.DataFrame(l)\n",
    "    df_check.columns=['column','dtypes','nunique','sum_null']\n",
    "    return df_check \n",
    "check(df)"
   ]
  },
  {
   "cell_type": "code",
   "execution_count": 8,
   "id": "4f8fc094",
   "metadata": {
    "execution": {
     "iopub.execute_input": "2022-10-15T11:30:01.121631Z",
     "iopub.status.busy": "2022-10-15T11:30:01.120903Z",
     "iopub.status.idle": "2022-10-15T11:30:01.162684Z",
     "shell.execute_reply": "2022-10-15T11:30:01.161469Z"
    },
    "papermill": {
     "duration": 0.057355,
     "end_time": "2022-10-15T11:30:01.165513",
     "exception": false,
     "start_time": "2022-10-15T11:30:01.108158",
     "status": "completed"
    },
    "tags": []
   },
   "outputs": [
    {
     "data": {
      "text/html": [
       "<div>\n",
       "<style scoped>\n",
       "    .dataframe tbody tr th:only-of-type {\n",
       "        vertical-align: middle;\n",
       "    }\n",
       "\n",
       "    .dataframe tbody tr th {\n",
       "        vertical-align: top;\n",
       "    }\n",
       "\n",
       "    .dataframe thead th {\n",
       "        text-align: right;\n",
       "    }\n",
       "</style>\n",
       "<table border=\"1\" class=\"dataframe\">\n",
       "  <thead>\n",
       "    <tr style=\"text-align: right;\">\n",
       "      <th></th>\n",
       "      <th>count</th>\n",
       "      <th>mean</th>\n",
       "      <th>std</th>\n",
       "      <th>min</th>\n",
       "      <th>25%</th>\n",
       "      <th>50%</th>\n",
       "      <th>75%</th>\n",
       "      <th>max</th>\n",
       "    </tr>\n",
       "  </thead>\n",
       "  <tbody>\n",
       "    <tr>\n",
       "      <th>mpg</th>\n",
       "      <td>398.0</td>\n",
       "      <td>23.514573</td>\n",
       "      <td>7.815984</td>\n",
       "      <td>9.0</td>\n",
       "      <td>17.500</td>\n",
       "      <td>23.0</td>\n",
       "      <td>29.000</td>\n",
       "      <td>46.6</td>\n",
       "    </tr>\n",
       "    <tr>\n",
       "      <th>cylinders</th>\n",
       "      <td>398.0</td>\n",
       "      <td>5.454774</td>\n",
       "      <td>1.701004</td>\n",
       "      <td>3.0</td>\n",
       "      <td>4.000</td>\n",
       "      <td>4.0</td>\n",
       "      <td>8.000</td>\n",
       "      <td>8.0</td>\n",
       "    </tr>\n",
       "    <tr>\n",
       "      <th>displacement</th>\n",
       "      <td>398.0</td>\n",
       "      <td>193.425879</td>\n",
       "      <td>104.269838</td>\n",
       "      <td>68.0</td>\n",
       "      <td>104.250</td>\n",
       "      <td>148.5</td>\n",
       "      <td>262.000</td>\n",
       "      <td>455.0</td>\n",
       "    </tr>\n",
       "    <tr>\n",
       "      <th>weight</th>\n",
       "      <td>398.0</td>\n",
       "      <td>2970.424623</td>\n",
       "      <td>846.841774</td>\n",
       "      <td>1613.0</td>\n",
       "      <td>2223.750</td>\n",
       "      <td>2803.5</td>\n",
       "      <td>3608.000</td>\n",
       "      <td>5140.0</td>\n",
       "    </tr>\n",
       "    <tr>\n",
       "      <th>acceleration</th>\n",
       "      <td>398.0</td>\n",
       "      <td>15.568090</td>\n",
       "      <td>2.757689</td>\n",
       "      <td>8.0</td>\n",
       "      <td>13.825</td>\n",
       "      <td>15.5</td>\n",
       "      <td>17.175</td>\n",
       "      <td>24.8</td>\n",
       "    </tr>\n",
       "    <tr>\n",
       "      <th>model year</th>\n",
       "      <td>398.0</td>\n",
       "      <td>76.010050</td>\n",
       "      <td>3.697627</td>\n",
       "      <td>70.0</td>\n",
       "      <td>73.000</td>\n",
       "      <td>76.0</td>\n",
       "      <td>79.000</td>\n",
       "      <td>82.0</td>\n",
       "    </tr>\n",
       "    <tr>\n",
       "      <th>origin</th>\n",
       "      <td>398.0</td>\n",
       "      <td>1.572864</td>\n",
       "      <td>0.802055</td>\n",
       "      <td>1.0</td>\n",
       "      <td>1.000</td>\n",
       "      <td>1.0</td>\n",
       "      <td>2.000</td>\n",
       "      <td>3.0</td>\n",
       "    </tr>\n",
       "  </tbody>\n",
       "</table>\n",
       "</div>"
      ],
      "text/plain": [
       "              count         mean         std     min       25%     50%  \\\n",
       "mpg           398.0    23.514573    7.815984     9.0    17.500    23.0   \n",
       "cylinders     398.0     5.454774    1.701004     3.0     4.000     4.0   \n",
       "displacement  398.0   193.425879  104.269838    68.0   104.250   148.5   \n",
       "weight        398.0  2970.424623  846.841774  1613.0  2223.750  2803.5   \n",
       "acceleration  398.0    15.568090    2.757689     8.0    13.825    15.5   \n",
       "model year    398.0    76.010050    3.697627    70.0    73.000    76.0   \n",
       "origin        398.0     1.572864    0.802055     1.0     1.000     1.0   \n",
       "\n",
       "                   75%     max  \n",
       "mpg             29.000    46.6  \n",
       "cylinders        8.000     8.0  \n",
       "displacement   262.000   455.0  \n",
       "weight        3608.000  5140.0  \n",
       "acceleration    17.175    24.8  \n",
       "model year      79.000    82.0  \n",
       "origin           2.000     3.0  "
      ]
     },
     "execution_count": 8,
     "metadata": {},
     "output_type": "execute_result"
    }
   ],
   "source": [
    "df.describe().T"
   ]
  },
  {
   "cell_type": "markdown",
   "id": "fcf7bbd2",
   "metadata": {
    "papermill": {
     "duration": 0.010386,
     "end_time": "2022-10-15T11:30:01.186873",
     "exception": false,
     "start_time": "2022-10-15T11:30:01.176487",
     "status": "completed"
    },
    "tags": []
   },
   "source": [
    "<div style=\"color:blue;font-size:20px;font-weight:bolder\">Discovering Missing Values</div> "
   ]
  },
  {
   "cell_type": "code",
   "execution_count": 9,
   "id": "8b231c3b",
   "metadata": {
    "execution": {
     "iopub.execute_input": "2022-10-15T11:30:01.210961Z",
     "iopub.status.busy": "2022-10-15T11:30:01.210526Z",
     "iopub.status.idle": "2022-10-15T11:30:01.220677Z",
     "shell.execute_reply": "2022-10-15T11:30:01.219593Z"
    },
    "papermill": {
     "duration": 0.024758,
     "end_time": "2022-10-15T11:30:01.223098",
     "exception": false,
     "start_time": "2022-10-15T11:30:01.198340",
     "status": "completed"
    },
    "tags": []
   },
   "outputs": [
    {
     "data": {
      "text/plain": [
       "mpg             0\n",
       "cylinders       0\n",
       "displacement    0\n",
       "horsepower      0\n",
       "weight          0\n",
       "acceleration    0\n",
       "model year      0\n",
       "origin          0\n",
       "car name        0\n",
       "dtype: int64"
      ]
     },
     "execution_count": 9,
     "metadata": {},
     "output_type": "execute_result"
    }
   ],
   "source": [
    "df.isnull().sum()"
   ]
  },
  {
   "cell_type": "markdown",
   "id": "a97c6bc1",
   "metadata": {
    "papermill": {
     "duration": 0.010393,
     "end_time": "2022-10-15T11:30:01.244593",
     "exception": false,
     "start_time": "2022-10-15T11:30:01.234200",
     "status": "completed"
    },
    "tags": []
   },
   "source": [
    "> ##### their is no missing values in the dataset"
   ]
  },
  {
   "cell_type": "code",
   "execution_count": 10,
   "id": "42b7518b",
   "metadata": {
    "execution": {
     "iopub.execute_input": "2022-10-15T11:30:01.268407Z",
     "iopub.status.busy": "2022-10-15T11:30:01.267366Z",
     "iopub.status.idle": "2022-10-15T11:30:01.274337Z",
     "shell.execute_reply": "2022-10-15T11:30:01.272996Z"
    },
    "papermill": {
     "duration": 0.021537,
     "end_time": "2022-10-15T11:30:01.276867",
     "exception": false,
     "start_time": "2022-10-15T11:30:01.255330",
     "status": "completed"
    },
    "tags": []
   },
   "outputs": [],
   "source": [
    "df = df.drop(\"car name\",axis=1)"
   ]
  },
  {
   "cell_type": "code",
   "execution_count": 11,
   "id": "f631e448",
   "metadata": {
    "execution": {
     "iopub.execute_input": "2022-10-15T11:30:01.300293Z",
     "iopub.status.busy": "2022-10-15T11:30:01.299887Z",
     "iopub.status.idle": "2022-10-15T11:30:01.306063Z",
     "shell.execute_reply": "2022-10-15T11:30:01.304861Z"
    },
    "papermill": {
     "duration": 0.020747,
     "end_time": "2022-10-15T11:30:01.308377",
     "exception": false,
     "start_time": "2022-10-15T11:30:01.287630",
     "status": "completed"
    },
    "tags": []
   },
   "outputs": [],
   "source": [
    "df['horsepower'] = df['horsepower'].replace(\"?\",np.nan)"
   ]
  },
  {
   "cell_type": "code",
   "execution_count": 12,
   "id": "592693ac",
   "metadata": {
    "execution": {
     "iopub.execute_input": "2022-10-15T11:30:01.332183Z",
     "iopub.status.busy": "2022-10-15T11:30:01.331722Z",
     "iopub.status.idle": "2022-10-15T11:30:01.338329Z",
     "shell.execute_reply": "2022-10-15T11:30:01.337023Z"
    },
    "papermill": {
     "duration": 0.021648,
     "end_time": "2022-10-15T11:30:01.340913",
     "exception": false,
     "start_time": "2022-10-15T11:30:01.319265",
     "status": "completed"
    },
    "tags": []
   },
   "outputs": [],
   "source": [
    "df[\"horsepower\"] = df[\"horsepower\"].astype(\"float64\")"
   ]
  },
  {
   "cell_type": "code",
   "execution_count": 13,
   "id": "137b0fbe",
   "metadata": {
    "execution": {
     "iopub.execute_input": "2022-10-15T11:30:01.365095Z",
     "iopub.status.busy": "2022-10-15T11:30:01.364204Z",
     "iopub.status.idle": "2022-10-15T11:30:01.374571Z",
     "shell.execute_reply": "2022-10-15T11:30:01.373199Z"
    },
    "papermill": {
     "duration": 0.024996,
     "end_time": "2022-10-15T11:30:01.376820",
     "exception": false,
     "start_time": "2022-10-15T11:30:01.351824",
     "status": "completed"
    },
    "tags": []
   },
   "outputs": [
    {
     "data": {
      "text/plain": [
       "mpg             0\n",
       "cylinders       0\n",
       "displacement    0\n",
       "horsepower      6\n",
       "weight          0\n",
       "acceleration    0\n",
       "model year      0\n",
       "origin          0\n",
       "dtype: int64"
      ]
     },
     "execution_count": 13,
     "metadata": {},
     "output_type": "execute_result"
    }
   ],
   "source": [
    "df.isnull().sum()"
   ]
  },
  {
   "cell_type": "code",
   "execution_count": 14,
   "id": "a2007fbd",
   "metadata": {
    "execution": {
     "iopub.execute_input": "2022-10-15T11:30:01.401252Z",
     "iopub.status.busy": "2022-10-15T11:30:01.400806Z",
     "iopub.status.idle": "2022-10-15T11:30:01.409692Z",
     "shell.execute_reply": "2022-10-15T11:30:01.408356Z"
    },
    "papermill": {
     "duration": 0.02397,
     "end_time": "2022-10-15T11:30:01.412272",
     "exception": false,
     "start_time": "2022-10-15T11:30:01.388302",
     "status": "completed"
    },
    "tags": []
   },
   "outputs": [],
   "source": [
    "df = df.dropna()"
   ]
  },
  {
   "cell_type": "code",
   "execution_count": 15,
   "id": "ec95f525",
   "metadata": {
    "execution": {
     "iopub.execute_input": "2022-10-15T11:30:01.436649Z",
     "iopub.status.busy": "2022-10-15T11:30:01.435701Z",
     "iopub.status.idle": "2022-10-15T11:30:01.453281Z",
     "shell.execute_reply": "2022-10-15T11:30:01.452106Z"
    },
    "papermill": {
     "duration": 0.032628,
     "end_time": "2022-10-15T11:30:01.456130",
     "exception": false,
     "start_time": "2022-10-15T11:30:01.423502",
     "status": "completed"
    },
    "tags": []
   },
   "outputs": [
    {
     "name": "stdout",
     "output_type": "stream",
     "text": [
      "<class 'pandas.core.frame.DataFrame'>\n",
      "Int64Index: 392 entries, 0 to 397\n",
      "Data columns (total 8 columns):\n",
      " #   Column        Non-Null Count  Dtype  \n",
      "---  ------        --------------  -----  \n",
      " 0   mpg           392 non-null    float64\n",
      " 1   cylinders     392 non-null    int64  \n",
      " 2   displacement  392 non-null    float64\n",
      " 3   horsepower    392 non-null    float64\n",
      " 4   weight        392 non-null    int64  \n",
      " 5   acceleration  392 non-null    float64\n",
      " 6   model year    392 non-null    int64  \n",
      " 7   origin        392 non-null    int64  \n",
      "dtypes: float64(4), int64(4)\n",
      "memory usage: 27.6 KB\n"
     ]
    }
   ],
   "source": [
    "df.info()"
   ]
  },
  {
   "cell_type": "markdown",
   "id": "a24483f6",
   "metadata": {
    "papermill": {
     "duration": 0.010579,
     "end_time": "2022-10-15T11:30:01.477856",
     "exception": false,
     "start_time": "2022-10-15T11:30:01.467277",
     "status": "completed"
    },
    "tags": []
   },
   "source": [
    "<div style=\"color:white;font-size:25px;font-weight:bolder;background-color:black;text-align:center;padding:15px 0px;border-radius:20px\"> Modeling part </div> "
   ]
  },
  {
   "cell_type": "markdown",
   "id": "b13fb47a",
   "metadata": {
    "papermill": {
     "duration": 0.01057,
     "end_time": "2022-10-15T11:30:01.499351",
     "exception": false,
     "start_time": "2022-10-15T11:30:01.488781",
     "status": "completed"
    },
    "tags": []
   },
   "source": [
    "<div style=\"color:blue;font-size:20px;font-weight:bolder\">import keras</div> "
   ]
  },
  {
   "cell_type": "code",
   "execution_count": 16,
   "id": "314e0b9d",
   "metadata": {
    "execution": {
     "iopub.execute_input": "2022-10-15T11:30:01.523073Z",
     "iopub.status.busy": "2022-10-15T11:30:01.522649Z",
     "iopub.status.idle": "2022-10-15T11:30:07.591922Z",
     "shell.execute_reply": "2022-10-15T11:30:07.590498Z"
    },
    "papermill": {
     "duration": 6.084869,
     "end_time": "2022-10-15T11:30:07.595170",
     "exception": false,
     "start_time": "2022-10-15T11:30:01.510301",
     "status": "completed"
    },
    "tags": []
   },
   "outputs": [],
   "source": [
    "from keras.models import Sequential\n",
    "from keras.layers.core import Dense, Activation"
   ]
  },
  {
   "cell_type": "markdown",
   "id": "cfbc63be",
   "metadata": {
    "papermill": {
     "duration": 0.011263,
     "end_time": "2022-10-15T11:30:07.618124",
     "exception": false,
     "start_time": "2022-10-15T11:30:07.606861",
     "status": "completed"
    },
    "tags": []
   },
   "source": [
    "<div style=\"color:blue;font-size:20px;font-weight:bolder\">Splitting the dataset into the Training set and Test set</div> "
   ]
  },
  {
   "cell_type": "code",
   "execution_count": 17,
   "id": "2ac27f22",
   "metadata": {
    "execution": {
     "iopub.execute_input": "2022-10-15T11:30:07.643893Z",
     "iopub.status.busy": "2022-10-15T11:30:07.643005Z",
     "iopub.status.idle": "2022-10-15T11:30:07.650197Z",
     "shell.execute_reply": "2022-10-15T11:30:07.648880Z"
    },
    "papermill": {
     "duration": 0.022746,
     "end_time": "2022-10-15T11:30:07.652935",
     "exception": false,
     "start_time": "2022-10-15T11:30:07.630189",
     "status": "completed"
    },
    "tags": []
   },
   "outputs": [],
   "source": [
    "X = df.drop(\"mpg\",axis=1).values\n",
    "y = df[\"mpg\"].values"
   ]
  },
  {
   "cell_type": "code",
   "execution_count": 18,
   "id": "9b66aa87",
   "metadata": {
    "execution": {
     "iopub.execute_input": "2022-10-15T11:30:07.677139Z",
     "iopub.status.busy": "2022-10-15T11:30:07.676716Z",
     "iopub.status.idle": "2022-10-15T11:30:07.683155Z",
     "shell.execute_reply": "2022-10-15T11:30:07.681924Z"
    },
    "papermill": {
     "duration": 0.021687,
     "end_time": "2022-10-15T11:30:07.685759",
     "exception": false,
     "start_time": "2022-10-15T11:30:07.664072",
     "status": "completed"
    },
    "tags": []
   },
   "outputs": [],
   "source": [
    "from sklearn.preprocessing import StandardScaler\n",
    "st = StandardScaler()\n",
    "X = st.fit_transform(X)"
   ]
  },
  {
   "cell_type": "code",
   "execution_count": 19,
   "id": "cad5af48",
   "metadata": {
    "execution": {
     "iopub.execute_input": "2022-10-15T11:30:07.710180Z",
     "iopub.status.busy": "2022-10-15T11:30:07.709720Z",
     "iopub.status.idle": "2022-10-15T11:30:07.774491Z",
     "shell.execute_reply": "2022-10-15T11:30:07.773352Z"
    },
    "papermill": {
     "duration": 0.080395,
     "end_time": "2022-10-15T11:30:07.777362",
     "exception": false,
     "start_time": "2022-10-15T11:30:07.696967",
     "status": "completed"
    },
    "tags": []
   },
   "outputs": [],
   "source": [
    "from sklearn.model_selection import train_test_split\n",
    "X_train, X_test, y_train, y_test = train_test_split(X, y, test_size = 0.25, random_state = 40)"
   ]
  },
  {
   "cell_type": "markdown",
   "id": "bcf492bf",
   "metadata": {
    "papermill": {
     "duration": 0.01059,
     "end_time": "2022-10-15T11:30:07.799866",
     "exception": false,
     "start_time": "2022-10-15T11:30:07.789276",
     "status": "completed"
    },
    "tags": []
   },
   "source": [
    "<div style=\"color:blue;font-size:20px;font-weight:bolder\">Defining the model </div> "
   ]
  },
  {
   "cell_type": "code",
   "execution_count": 20,
   "id": "ca1938ca",
   "metadata": {
    "execution": {
     "iopub.execute_input": "2022-10-15T11:30:07.823985Z",
     "iopub.status.busy": "2022-10-15T11:30:07.823542Z",
     "iopub.status.idle": "2022-10-15T11:30:07.828831Z",
     "shell.execute_reply": "2022-10-15T11:30:07.827339Z"
    },
    "papermill": {
     "duration": 0.020569,
     "end_time": "2022-10-15T11:30:07.831495",
     "exception": false,
     "start_time": "2022-10-15T11:30:07.810926",
     "status": "completed"
    },
    "tags": []
   },
   "outputs": [],
   "source": [
    "import tensorflow as tf"
   ]
  },
  {
   "cell_type": "code",
   "execution_count": 21,
   "id": "e0fb6f62",
   "metadata": {
    "execution": {
     "iopub.execute_input": "2022-10-15T11:30:07.855992Z",
     "iopub.status.busy": "2022-10-15T11:30:07.855533Z",
     "iopub.status.idle": "2022-10-15T11:30:08.372037Z",
     "shell.execute_reply": "2022-10-15T11:30:08.370807Z"
    },
    "papermill": {
     "duration": 0.532125,
     "end_time": "2022-10-15T11:30:08.375115",
     "exception": false,
     "start_time": "2022-10-15T11:30:07.842990",
     "status": "completed"
    },
    "tags": []
   },
   "outputs": [
    {
     "name": "stderr",
     "output_type": "stream",
     "text": [
      "2022-10-15 11:30:08.288030: I tensorflow/core/common_runtime/process_util.cc:146] Creating new thread pool with default inter op setting: 2. Tune using inter_op_parallelism_threads for best performance.\n"
     ]
    }
   ],
   "source": [
    "# Define model\n",
    "model = tf.keras.Sequential([\n",
    "    tf.keras.layers.Dense(units = 30, activation = tf.nn.relu, input_shape = [X_train.shape[1]]),\n",
    "    tf.keras.layers.Dense(units = 20, activation = tf.nn.relu),\n",
    "    tf.keras.layers.Dense(units = 1)\n",
    "    ])"
   ]
  },
  {
   "cell_type": "code",
   "execution_count": 22,
   "id": "ecd31d56",
   "metadata": {
    "execution": {
     "iopub.execute_input": "2022-10-15T11:30:08.400597Z",
     "iopub.status.busy": "2022-10-15T11:30:08.399779Z",
     "iopub.status.idle": "2022-10-15T11:30:08.406750Z",
     "shell.execute_reply": "2022-10-15T11:30:08.405381Z"
    },
    "papermill": {
     "duration": 0.022877,
     "end_time": "2022-10-15T11:30:08.409770",
     "exception": false,
     "start_time": "2022-10-15T11:30:08.386893",
     "status": "completed"
    },
    "tags": []
   },
   "outputs": [
    {
     "name": "stdout",
     "output_type": "stream",
     "text": [
      "Model: \"sequential\"\n",
      "_________________________________________________________________\n",
      "Layer (type)                 Output Shape              Param #   \n",
      "=================================================================\n",
      "dense (Dense)                (None, 30)                240       \n",
      "_________________________________________________________________\n",
      "dense_1 (Dense)              (None, 20)                620       \n",
      "_________________________________________________________________\n",
      "dense_2 (Dense)              (None, 1)                 21        \n",
      "=================================================================\n",
      "Total params: 881\n",
      "Trainable params: 881\n",
      "Non-trainable params: 0\n",
      "_________________________________________________________________\n"
     ]
    }
   ],
   "source": [
    "model.summary()"
   ]
  },
  {
   "cell_type": "code",
   "execution_count": 23,
   "id": "6c46cfdf",
   "metadata": {
    "execution": {
     "iopub.execute_input": "2022-10-15T11:30:08.435241Z",
     "iopub.status.busy": "2022-10-15T11:30:08.434289Z",
     "iopub.status.idle": "2022-10-15T11:30:08.449682Z",
     "shell.execute_reply": "2022-10-15T11:30:08.448665Z"
    },
    "papermill": {
     "duration": 0.030812,
     "end_time": "2022-10-15T11:30:08.452572",
     "exception": false,
     "start_time": "2022-10-15T11:30:08.421760",
     "status": "completed"
    },
    "tags": []
   },
   "outputs": [],
   "source": [
    "model.compile(loss = 'mse', optimizer = tf.keras.optimizers.RMSprop(0.001), metrics = ['mae','mse'])"
   ]
  },
  {
   "cell_type": "code",
   "execution_count": 24,
   "id": "0f358770",
   "metadata": {
    "execution": {
     "iopub.execute_input": "2022-10-15T11:30:08.476688Z",
     "iopub.status.busy": "2022-10-15T11:30:08.476258Z",
     "iopub.status.idle": "2022-10-15T11:30:15.839362Z",
     "shell.execute_reply": "2022-10-15T11:30:15.838140Z"
    },
    "papermill": {
     "duration": 7.37843,
     "end_time": "2022-10-15T11:30:15.842334",
     "exception": false,
     "start_time": "2022-10-15T11:30:08.463904",
     "status": "completed"
    },
    "tags": []
   },
   "outputs": [
    {
     "name": "stderr",
     "output_type": "stream",
     "text": [
      "2022-10-15 11:30:08.566895: I tensorflow/compiler/mlir/mlir_graph_optimization_pass.cc:185] None of the MLIR Optimization Passes are enabled (registered 2)\n"
     ]
    },
    {
     "name": "stdout",
     "output_type": "stream",
     "text": [
      "Epoch 1/100\n",
      "10/10 [==============================] - 1s 29ms/step - loss: 615.7444 - mae: 23.5450 - mse: 615.7444 - val_loss: 541.3159 - val_mae: 21.9840 - val_mse: 541.3159\n",
      "Epoch 2/100\n",
      "10/10 [==============================] - 0s 6ms/step - loss: 591.2031 - mae: 22.9767 - mse: 591.2031 - val_loss: 521.9924 - val_mae: 21.4955 - val_mse: 521.9924\n",
      "Epoch 3/100\n",
      "10/10 [==============================] - 0s 6ms/step - loss: 570.5070 - mae: 22.4954 - mse: 570.5070 - val_loss: 502.4512 - val_mae: 21.0079 - val_mse: 502.4512\n",
      "Epoch 4/100\n",
      "10/10 [==============================] - 0s 6ms/step - loss: 548.6752 - mae: 21.9937 - mse: 548.6752 - val_loss: 481.8110 - val_mae: 20.4914 - val_mse: 481.8110\n",
      "Epoch 5/100\n",
      "10/10 [==============================] - 0s 6ms/step - loss: 524.8596 - mae: 21.4427 - mse: 524.8596 - val_loss: 458.7389 - val_mae: 19.8938 - val_mse: 458.7389\n",
      "Epoch 6/100\n",
      "10/10 [==============================] - 0s 6ms/step - loss: 498.2585 - mae: 20.8086 - mse: 498.2585 - val_loss: 433.5510 - val_mae: 19.2298 - val_mse: 433.5510\n",
      "Epoch 7/100\n",
      "10/10 [==============================] - 0s 6ms/step - loss: 468.8852 - mae: 20.0986 - mse: 468.8852 - val_loss: 405.9431 - val_mae: 18.4894 - val_mse: 405.9431\n",
      "Epoch 8/100\n",
      "10/10 [==============================] - 0s 6ms/step - loss: 437.3168 - mae: 19.3174 - mse: 437.3168 - val_loss: 377.2854 - val_mae: 17.7071 - val_mse: 377.2854\n",
      "Epoch 9/100\n",
      "10/10 [==============================] - 0s 6ms/step - loss: 404.7553 - mae: 18.4709 - mse: 404.7553 - val_loss: 349.6539 - val_mae: 16.8712 - val_mse: 349.6539\n",
      "Epoch 10/100\n",
      "10/10 [==============================] - 0s 6ms/step - loss: 372.0076 - mae: 17.5779 - mse: 372.0076 - val_loss: 317.4988 - val_mae: 15.9269 - val_mse: 317.4988\n",
      "Epoch 11/100\n",
      "10/10 [==============================] - 0s 6ms/step - loss: 335.4777 - mae: 16.5684 - mse: 335.4777 - val_loss: 287.0000 - val_mae: 14.9646 - val_mse: 287.0000\n",
      "Epoch 12/100\n",
      "10/10 [==============================] - 0s 6ms/step - loss: 299.3918 - mae: 15.5380 - mse: 299.3918 - val_loss: 253.9217 - val_mae: 14.0099 - val_mse: 253.9217\n",
      "Epoch 13/100\n",
      "10/10 [==============================] - 0s 6ms/step - loss: 261.5540 - mae: 14.4119 - mse: 261.5540 - val_loss: 220.7171 - val_mae: 13.0370 - val_mse: 220.7171\n",
      "Epoch 14/100\n",
      "10/10 [==============================] - 0s 6ms/step - loss: 224.0926 - mae: 13.2660 - mse: 224.0926 - val_loss: 190.7857 - val_mae: 12.1426 - val_mse: 190.7857\n",
      "Epoch 15/100\n",
      "10/10 [==============================] - 0s 10ms/step - loss: 190.0086 - mae: 12.1571 - mse: 190.0086 - val_loss: 162.2073 - val_mae: 11.2259 - val_mse: 162.2073\n",
      "Epoch 16/100\n",
      "10/10 [==============================] - 0s 7ms/step - loss: 158.2102 - mae: 11.0279 - mse: 158.2102 - val_loss: 135.9236 - val_mae: 10.2606 - val_mse: 135.9236\n",
      "Epoch 17/100\n",
      "10/10 [==============================] - 0s 6ms/step - loss: 129.0522 - mae: 9.8821 - mse: 129.0522 - val_loss: 111.1368 - val_mae: 9.2126 - val_mse: 111.1368\n",
      "Epoch 18/100\n",
      "10/10 [==============================] - 0s 6ms/step - loss: 103.1860 - mae: 8.7585 - mse: 103.1860 - val_loss: 89.5226 - val_mae: 8.1242 - val_mse: 89.5226\n",
      "Epoch 19/100\n",
      "10/10 [==============================] - 0s 6ms/step - loss: 81.6371 - mae: 7.6279 - mse: 81.6371 - val_loss: 73.0676 - val_mae: 7.2452 - val_mse: 73.0676\n",
      "Epoch 20/100\n",
      "10/10 [==============================] - 0s 6ms/step - loss: 65.7856 - mae: 6.7280 - mse: 65.7856 - val_loss: 59.5772 - val_mae: 6.4539 - val_mse: 59.5772\n",
      "Epoch 21/100\n",
      "10/10 [==============================] - 0s 6ms/step - loss: 54.1714 - mae: 6.1120 - mse: 54.1714 - val_loss: 50.5220 - val_mae: 5.8876 - val_mse: 50.5220\n",
      "Epoch 22/100\n",
      "10/10 [==============================] - 0s 6ms/step - loss: 46.8951 - mae: 5.6954 - mse: 46.8951 - val_loss: 44.6116 - val_mae: 5.5200 - val_mse: 44.6116\n",
      "Epoch 23/100\n",
      "10/10 [==============================] - 0s 7ms/step - loss: 42.0519 - mae: 5.3825 - mse: 42.0519 - val_loss: 39.9794 - val_mae: 5.1982 - val_mse: 39.9794\n",
      "Epoch 24/100\n",
      "10/10 [==============================] - 0s 6ms/step - loss: 38.1535 - mae: 5.1127 - mse: 38.1535 - val_loss: 36.5670 - val_mae: 4.9437 - val_mse: 36.5670\n",
      "Epoch 25/100\n",
      "10/10 [==============================] - 0s 6ms/step - loss: 34.6797 - mae: 4.8561 - mse: 34.6797 - val_loss: 33.1580 - val_mae: 4.6657 - val_mse: 33.1580\n",
      "Epoch 26/100\n",
      "10/10 [==============================] - 0s 6ms/step - loss: 31.5268 - mae: 4.5818 - mse: 31.5268 - val_loss: 29.7157 - val_mae: 4.3558 - val_mse: 29.7157\n",
      "Epoch 27/100\n",
      "10/10 [==============================] - 0s 7ms/step - loss: 28.3354 - mae: 4.3016 - mse: 28.3354 - val_loss: 27.7659 - val_mae: 4.2305 - val_mse: 27.7659\n",
      "Epoch 28/100\n",
      "10/10 [==============================] - 0s 6ms/step - loss: 25.7758 - mae: 4.1063 - mse: 25.7758 - val_loss: 24.1727 - val_mae: 3.8705 - val_mse: 24.1727\n",
      "Epoch 29/100\n",
      "10/10 [==============================] - 0s 6ms/step - loss: 23.3386 - mae: 3.8570 - mse: 23.3386 - val_loss: 22.1031 - val_mae: 3.6759 - val_mse: 22.1031\n",
      "Epoch 30/100\n",
      "10/10 [==============================] - 0s 6ms/step - loss: 21.3420 - mae: 3.7140 - mse: 21.3420 - val_loss: 20.3096 - val_mae: 3.5343 - val_mse: 20.3096\n",
      "Epoch 31/100\n",
      "10/10 [==============================] - 0s 7ms/step - loss: 19.3655 - mae: 3.5380 - mse: 19.3655 - val_loss: 18.3204 - val_mae: 3.3236 - val_mse: 18.3204\n",
      "Epoch 32/100\n",
      "10/10 [==============================] - 0s 7ms/step - loss: 17.6584 - mae: 3.3743 - mse: 17.6584 - val_loss: 17.0945 - val_mae: 3.2255 - val_mse: 17.0945\n",
      "Epoch 33/100\n",
      "10/10 [==============================] - 0s 6ms/step - loss: 16.3860 - mae: 3.2392 - mse: 16.3860 - val_loss: 15.8154 - val_mae: 3.0661 - val_mse: 15.8154\n",
      "Epoch 34/100\n",
      "10/10 [==============================] - 0s 6ms/step - loss: 15.3268 - mae: 3.1096 - mse: 15.3268 - val_loss: 14.7579 - val_mae: 2.9596 - val_mse: 14.7579\n",
      "Epoch 35/100\n",
      "10/10 [==============================] - 0s 6ms/step - loss: 14.3147 - mae: 2.9678 - mse: 14.3147 - val_loss: 14.0285 - val_mae: 2.9027 - val_mse: 14.0285\n",
      "Epoch 36/100\n",
      "10/10 [==============================] - 0s 6ms/step - loss: 13.5704 - mae: 2.8882 - mse: 13.5704 - val_loss: 13.2648 - val_mae: 2.8206 - val_mse: 13.2648\n",
      "Epoch 37/100\n",
      "10/10 [==============================] - 0s 6ms/step - loss: 12.9657 - mae: 2.7938 - mse: 12.9657 - val_loss: 12.8070 - val_mae: 2.7673 - val_mse: 12.8070\n",
      "Epoch 38/100\n",
      "10/10 [==============================] - 0s 6ms/step - loss: 12.5371 - mae: 2.7231 - mse: 12.5371 - val_loss: 12.1465 - val_mae: 2.6899 - val_mse: 12.1465\n",
      "Epoch 39/100\n",
      "10/10 [==============================] - 0s 6ms/step - loss: 11.9782 - mae: 2.6516 - mse: 11.9782 - val_loss: 11.5769 - val_mae: 2.5678 - val_mse: 11.5769\n",
      "Epoch 40/100\n",
      "10/10 [==============================] - 0s 6ms/step - loss: 11.5103 - mae: 2.5585 - mse: 11.5103 - val_loss: 11.0729 - val_mae: 2.4851 - val_mse: 11.0729\n",
      "Epoch 41/100\n",
      "10/10 [==============================] - 0s 6ms/step - loss: 11.2088 - mae: 2.4994 - mse: 11.2088 - val_loss: 10.7650 - val_mae: 2.4394 - val_mse: 10.7650\n",
      "Epoch 42/100\n",
      "10/10 [==============================] - 0s 7ms/step - loss: 11.0915 - mae: 2.4695 - mse: 11.0915 - val_loss: 10.4922 - val_mae: 2.4657 - val_mse: 10.4922\n",
      "Epoch 43/100\n",
      "10/10 [==============================] - 0s 6ms/step - loss: 10.6698 - mae: 2.4089 - mse: 10.6698 - val_loss: 9.9895 - val_mae: 2.3575 - val_mse: 9.9895\n",
      "Epoch 44/100\n",
      "10/10 [==============================] - 0s 6ms/step - loss: 10.3168 - mae: 2.3346 - mse: 10.3168 - val_loss: 10.3563 - val_mae: 2.4260 - val_mse: 10.3563\n",
      "Epoch 45/100\n",
      "10/10 [==============================] - 0s 6ms/step - loss: 10.3375 - mae: 2.3401 - mse: 10.3375 - val_loss: 9.6888 - val_mae: 2.3001 - val_mse: 9.6888\n",
      "Epoch 46/100\n",
      "10/10 [==============================] - 0s 6ms/step - loss: 10.1061 - mae: 2.3113 - mse: 10.1061 - val_loss: 9.9141 - val_mae: 2.3689 - val_mse: 9.9141\n",
      "Epoch 47/100\n",
      "10/10 [==============================] - 0s 6ms/step - loss: 9.9642 - mae: 2.2782 - mse: 9.9642 - val_loss: 9.5736 - val_mae: 2.2772 - val_mse: 9.5736\n",
      "Epoch 48/100\n",
      "10/10 [==============================] - 0s 6ms/step - loss: 9.7331 - mae: 2.2510 - mse: 9.7331 - val_loss: 9.5957 - val_mae: 2.2954 - val_mse: 9.5957\n",
      "Epoch 49/100\n",
      "10/10 [==============================] - 0s 7ms/step - loss: 9.6937 - mae: 2.2526 - mse: 9.6937 - val_loss: 9.2534 - val_mae: 2.2458 - val_mse: 9.2534\n",
      "Epoch 50/100\n",
      "10/10 [==============================] - 0s 7ms/step - loss: 9.5114 - mae: 2.2194 - mse: 9.5114 - val_loss: 9.0807 - val_mae: 2.2096 - val_mse: 9.0807\n",
      "Epoch 51/100\n",
      "10/10 [==============================] - 0s 6ms/step - loss: 9.4303 - mae: 2.1907 - mse: 9.4303 - val_loss: 8.9562 - val_mae: 2.1978 - val_mse: 8.9562\n",
      "Epoch 52/100\n",
      "10/10 [==============================] - 0s 6ms/step - loss: 9.3498 - mae: 2.1666 - mse: 9.3498 - val_loss: 9.0138 - val_mae: 2.1973 - val_mse: 9.0138\n",
      "Epoch 53/100\n",
      "10/10 [==============================] - 0s 6ms/step - loss: 9.3587 - mae: 2.1910 - mse: 9.3587 - val_loss: 8.9213 - val_mae: 2.1924 - val_mse: 8.9213\n",
      "Epoch 54/100\n",
      "10/10 [==============================] - 0s 6ms/step - loss: 9.1489 - mae: 2.1499 - mse: 9.1489 - val_loss: 8.6359 - val_mae: 2.1509 - val_mse: 8.6359\n",
      "Epoch 55/100\n",
      "10/10 [==============================] - 0s 6ms/step - loss: 9.0880 - mae: 2.1410 - mse: 9.0880 - val_loss: 8.7479 - val_mae: 2.1716 - val_mse: 8.7479\n",
      "Epoch 56/100\n",
      "10/10 [==============================] - 0s 6ms/step - loss: 9.0118 - mae: 2.1277 - mse: 9.0118 - val_loss: 8.6614 - val_mae: 2.1749 - val_mse: 8.6614\n",
      "Epoch 57/100\n",
      "10/10 [==============================] - 0s 6ms/step - loss: 8.9185 - mae: 2.1234 - mse: 8.9185 - val_loss: 8.4380 - val_mae: 2.1279 - val_mse: 8.4380\n",
      "Epoch 58/100\n",
      "10/10 [==============================] - 0s 5ms/step - loss: 8.8879 - mae: 2.1083 - mse: 8.8879 - val_loss: 8.5816 - val_mae: 2.1483 - val_mse: 8.5816\n",
      "Epoch 59/100\n",
      "10/10 [==============================] - 0s 6ms/step - loss: 8.7348 - mae: 2.1004 - mse: 8.7348 - val_loss: 8.6026 - val_mae: 2.1786 - val_mse: 8.6026\n",
      "Epoch 60/100\n",
      "10/10 [==============================] - 0s 6ms/step - loss: 8.7671 - mae: 2.0921 - mse: 8.7671 - val_loss: 8.4463 - val_mae: 2.1355 - val_mse: 8.4463\n",
      "Epoch 61/100\n",
      "10/10 [==============================] - 0s 6ms/step - loss: 8.5853 - mae: 2.0652 - mse: 8.5853 - val_loss: 8.4875 - val_mae: 2.1241 - val_mse: 8.4875\n",
      "Epoch 62/100\n",
      "10/10 [==============================] - 0s 6ms/step - loss: 8.7764 - mae: 2.1080 - mse: 8.7764 - val_loss: 8.5053 - val_mae: 2.1264 - val_mse: 8.5053\n",
      "Epoch 63/100\n",
      "10/10 [==============================] - 0s 6ms/step - loss: 8.6261 - mae: 2.0991 - mse: 8.6261 - val_loss: 8.4396 - val_mae: 2.1472 - val_mse: 8.4396\n",
      "Epoch 64/100\n",
      "10/10 [==============================] - 0s 6ms/step - loss: 8.4701 - mae: 2.0579 - mse: 8.4701 - val_loss: 8.3577 - val_mae: 2.1348 - val_mse: 8.3577\n",
      "Epoch 65/100\n",
      "10/10 [==============================] - 0s 6ms/step - loss: 8.4906 - mae: 2.0806 - mse: 8.4906 - val_loss: 8.4377 - val_mae: 2.1575 - val_mse: 8.4377\n",
      "Epoch 66/100\n",
      "10/10 [==============================] - 0s 6ms/step - loss: 8.4567 - mae: 2.0598 - mse: 8.4567 - val_loss: 8.4963 - val_mae: 2.1445 - val_mse: 8.4963\n",
      "Epoch 67/100\n",
      "10/10 [==============================] - 0s 6ms/step - loss: 8.3552 - mae: 2.0691 - mse: 8.3552 - val_loss: 8.1497 - val_mae: 2.0746 - val_mse: 8.1497\n",
      "Epoch 68/100\n",
      "10/10 [==============================] - 0s 6ms/step - loss: 8.3429 - mae: 2.0415 - mse: 8.3429 - val_loss: 8.5441 - val_mae: 2.1705 - val_mse: 8.5441\n",
      "Epoch 69/100\n",
      "10/10 [==============================] - 0s 6ms/step - loss: 8.3006 - mae: 2.0602 - mse: 8.3006 - val_loss: 8.3836 - val_mae: 2.1480 - val_mse: 8.3836\n",
      "Epoch 70/100\n",
      "10/10 [==============================] - 0s 6ms/step - loss: 8.2982 - mae: 2.0633 - mse: 8.2982 - val_loss: 8.6901 - val_mae: 2.1718 - val_mse: 8.6901\n",
      "Epoch 71/100\n",
      "10/10 [==============================] - 0s 7ms/step - loss: 8.3524 - mae: 2.0665 - mse: 8.3524 - val_loss: 8.3055 - val_mae: 2.1337 - val_mse: 8.3055\n",
      "Epoch 72/100\n",
      "10/10 [==============================] - 0s 6ms/step - loss: 8.1799 - mae: 2.0330 - mse: 8.1799 - val_loss: 8.2713 - val_mae: 2.1361 - val_mse: 8.2713\n",
      "Epoch 73/100\n",
      "10/10 [==============================] - 0s 6ms/step - loss: 8.0015 - mae: 2.0137 - mse: 8.0015 - val_loss: 8.3584 - val_mae: 2.1841 - val_mse: 8.3584\n",
      "Epoch 74/100\n",
      "10/10 [==============================] - 0s 6ms/step - loss: 8.1307 - mae: 2.0221 - mse: 8.1307 - val_loss: 8.0370 - val_mae: 2.0912 - val_mse: 8.0370\n",
      "Epoch 75/100\n",
      "10/10 [==============================] - 0s 6ms/step - loss: 7.9364 - mae: 2.0008 - mse: 7.9364 - val_loss: 8.0035 - val_mae: 2.0810 - val_mse: 8.0035\n",
      "Epoch 76/100\n",
      "10/10 [==============================] - 0s 6ms/step - loss: 7.9589 - mae: 2.0099 - mse: 7.9589 - val_loss: 8.5903 - val_mae: 2.1933 - val_mse: 8.5903\n",
      "Epoch 77/100\n",
      "10/10 [==============================] - 0s 6ms/step - loss: 7.9813 - mae: 2.0271 - mse: 7.9813 - val_loss: 8.0316 - val_mae: 2.1032 - val_mse: 8.0316\n",
      "Epoch 78/100\n",
      "10/10 [==============================] - 0s 6ms/step - loss: 7.8367 - mae: 1.9981 - mse: 7.8367 - val_loss: 7.9454 - val_mae: 2.0932 - val_mse: 7.9454\n",
      "Epoch 79/100\n",
      "10/10 [==============================] - 0s 6ms/step - loss: 7.8870 - mae: 1.9996 - mse: 7.8870 - val_loss: 7.7869 - val_mae: 2.0229 - val_mse: 7.7869\n",
      "Epoch 80/100\n",
      "10/10 [==============================] - 0s 6ms/step - loss: 7.7963 - mae: 1.9910 - mse: 7.7963 - val_loss: 7.9529 - val_mae: 2.0716 - val_mse: 7.9529\n",
      "Epoch 81/100\n",
      "10/10 [==============================] - 0s 6ms/step - loss: 7.7512 - mae: 1.9839 - mse: 7.7512 - val_loss: 7.8254 - val_mae: 2.0204 - val_mse: 7.8254\n",
      "Epoch 82/100\n",
      "10/10 [==============================] - 0s 6ms/step - loss: 7.9075 - mae: 1.9962 - mse: 7.9075 - val_loss: 7.8790 - val_mae: 2.0551 - val_mse: 7.8790\n",
      "Epoch 83/100\n",
      "10/10 [==============================] - 0s 6ms/step - loss: 7.7242 - mae: 1.9766 - mse: 7.7242 - val_loss: 7.7307 - val_mae: 2.0315 - val_mse: 7.7307\n",
      "Epoch 84/100\n",
      "10/10 [==============================] - 0s 6ms/step - loss: 7.6052 - mae: 1.9630 - mse: 7.6052 - val_loss: 7.7417 - val_mae: 2.0165 - val_mse: 7.7417\n",
      "Epoch 85/100\n",
      "10/10 [==============================] - 0s 6ms/step - loss: 7.5843 - mae: 1.9528 - mse: 7.5843 - val_loss: 7.8379 - val_mae: 2.0770 - val_mse: 7.8379\n",
      "Epoch 86/100\n",
      "10/10 [==============================] - 0s 6ms/step - loss: 7.6187 - mae: 1.9686 - mse: 7.6187 - val_loss: 7.7350 - val_mae: 2.0193 - val_mse: 7.7350\n",
      "Epoch 87/100\n",
      "10/10 [==============================] - 0s 6ms/step - loss: 7.5153 - mae: 1.9547 - mse: 7.5153 - val_loss: 7.7582 - val_mae: 2.0457 - val_mse: 7.7582\n",
      "Epoch 88/100\n",
      "10/10 [==============================] - 0s 6ms/step - loss: 7.4999 - mae: 1.9528 - mse: 7.4999 - val_loss: 7.7871 - val_mae: 2.0336 - val_mse: 7.7871\n",
      "Epoch 89/100\n",
      "10/10 [==============================] - 0s 6ms/step - loss: 7.5013 - mae: 1.9581 - mse: 7.5013 - val_loss: 7.9301 - val_mae: 2.0794 - val_mse: 7.9301\n",
      "Epoch 90/100\n",
      "10/10 [==============================] - 0s 6ms/step - loss: 7.4457 - mae: 1.9521 - mse: 7.4457 - val_loss: 8.0205 - val_mae: 2.0817 - val_mse: 8.0205\n",
      "Epoch 91/100\n",
      "10/10 [==============================] - 0s 6ms/step - loss: 7.4910 - mae: 1.9515 - mse: 7.4910 - val_loss: 7.8315 - val_mae: 2.0457 - val_mse: 7.8315\n",
      "Epoch 92/100\n",
      "10/10 [==============================] - 0s 6ms/step - loss: 7.3500 - mae: 1.9435 - mse: 7.3500 - val_loss: 8.4784 - val_mae: 2.1859 - val_mse: 8.4784\n",
      "Epoch 93/100\n",
      "10/10 [==============================] - 0s 6ms/step - loss: 7.4287 - mae: 1.9490 - mse: 7.4287 - val_loss: 7.7162 - val_mae: 2.0120 - val_mse: 7.7162\n",
      "Epoch 94/100\n",
      "10/10 [==============================] - 0s 6ms/step - loss: 7.3325 - mae: 1.9191 - mse: 7.3325 - val_loss: 7.7381 - val_mae: 2.0264 - val_mse: 7.7381\n",
      "Epoch 95/100\n",
      "10/10 [==============================] - 0s 7ms/step - loss: 7.3730 - mae: 1.9321 - mse: 7.3730 - val_loss: 7.9242 - val_mae: 2.0692 - val_mse: 7.9242\n",
      "Epoch 96/100\n",
      "10/10 [==============================] - 0s 6ms/step - loss: 7.4114 - mae: 1.9318 - mse: 7.4114 - val_loss: 7.9672 - val_mae: 2.0854 - val_mse: 7.9672\n",
      "Epoch 97/100\n",
      "10/10 [==============================] - 0s 6ms/step - loss: 7.3497 - mae: 1.9462 - mse: 7.3497 - val_loss: 7.6948 - val_mae: 2.0364 - val_mse: 7.6948\n",
      "Epoch 98/100\n",
      "10/10 [==============================] - 0s 6ms/step - loss: 7.2994 - mae: 1.9179 - mse: 7.2994 - val_loss: 7.6475 - val_mae: 2.0197 - val_mse: 7.6475\n",
      "Epoch 99/100\n",
      "10/10 [==============================] - 0s 6ms/step - loss: 7.2197 - mae: 1.9103 - mse: 7.2197 - val_loss: 7.8581 - val_mae: 2.1372 - val_mse: 7.8581\n",
      "Epoch 100/100\n",
      "10/10 [==============================] - 0s 6ms/step - loss: 7.1802 - mae: 1.9173 - mse: 7.1802 - val_loss: 7.5975 - val_mae: 2.0035 - val_mse: 7.5975\n"
     ]
    }
   ],
   "source": [
    "history = model.fit(X_train, y_train, epochs = 100, validation_data=(X_test, y_test))"
   ]
  },
  {
   "cell_type": "code",
   "execution_count": 25,
   "id": "5386de7e",
   "metadata": {
    "execution": {
     "iopub.execute_input": "2022-10-15T11:30:15.895083Z",
     "iopub.status.busy": "2022-10-15T11:30:15.894662Z",
     "iopub.status.idle": "2022-10-15T11:30:16.050685Z",
     "shell.execute_reply": "2022-10-15T11:30:16.049444Z"
    },
    "papermill": {
     "duration": 0.185312,
     "end_time": "2022-10-15T11:30:16.053584",
     "exception": false,
     "start_time": "2022-10-15T11:30:15.868272",
     "status": "completed"
    },
    "tags": []
   },
   "outputs": [],
   "source": [
    "y_pred = model.predict(X_test)"
   ]
  },
  {
   "cell_type": "code",
   "execution_count": 26,
   "id": "d0c958d6",
   "metadata": {
    "execution": {
     "iopub.execute_input": "2022-10-15T11:30:16.104291Z",
     "iopub.status.busy": "2022-10-15T11:30:16.103823Z",
     "iopub.status.idle": "2022-10-15T11:30:16.123204Z",
     "shell.execute_reply": "2022-10-15T11:30:16.122062Z"
    },
    "papermill": {
     "duration": 0.048056,
     "end_time": "2022-10-15T11:30:16.125847",
     "exception": false,
     "start_time": "2022-10-15T11:30:16.077791",
     "status": "completed"
    },
    "tags": []
   },
   "outputs": [
    {
     "data": {
      "text/html": [
       "<div>\n",
       "<style scoped>\n",
       "    .dataframe tbody tr th:only-of-type {\n",
       "        vertical-align: middle;\n",
       "    }\n",
       "\n",
       "    .dataframe tbody tr th {\n",
       "        vertical-align: top;\n",
       "    }\n",
       "\n",
       "    .dataframe thead th {\n",
       "        text-align: right;\n",
       "    }\n",
       "</style>\n",
       "<table border=\"1\" class=\"dataframe\">\n",
       "  <thead>\n",
       "    <tr style=\"text-align: right;\">\n",
       "      <th></th>\n",
       "      <th>Actual Values</th>\n",
       "      <th>Predicted Values</th>\n",
       "    </tr>\n",
       "  </thead>\n",
       "  <tbody>\n",
       "    <tr>\n",
       "      <th>0</th>\n",
       "      <td>27.0</td>\n",
       "      <td>[25.323439]</td>\n",
       "    </tr>\n",
       "    <tr>\n",
       "      <th>1</th>\n",
       "      <td>27.0</td>\n",
       "      <td>[29.840864]</td>\n",
       "    </tr>\n",
       "    <tr>\n",
       "      <th>2</th>\n",
       "      <td>18.0</td>\n",
       "      <td>[15.866565]</td>\n",
       "    </tr>\n",
       "    <tr>\n",
       "      <th>3</th>\n",
       "      <td>17.0</td>\n",
       "      <td>[19.42424]</td>\n",
       "    </tr>\n",
       "    <tr>\n",
       "      <th>4</th>\n",
       "      <td>22.0</td>\n",
       "      <td>[20.710434]</td>\n",
       "    </tr>\n",
       "    <tr>\n",
       "      <th>...</th>\n",
       "      <td>...</td>\n",
       "      <td>...</td>\n",
       "    </tr>\n",
       "    <tr>\n",
       "      <th>93</th>\n",
       "      <td>15.5</td>\n",
       "      <td>[17.254236]</td>\n",
       "    </tr>\n",
       "    <tr>\n",
       "      <th>94</th>\n",
       "      <td>24.0</td>\n",
       "      <td>[23.47247]</td>\n",
       "    </tr>\n",
       "    <tr>\n",
       "      <th>95</th>\n",
       "      <td>19.0</td>\n",
       "      <td>[18.075985]</td>\n",
       "    </tr>\n",
       "    <tr>\n",
       "      <th>96</th>\n",
       "      <td>22.0</td>\n",
       "      <td>[17.130627]</td>\n",
       "    </tr>\n",
       "    <tr>\n",
       "      <th>97</th>\n",
       "      <td>32.2</td>\n",
       "      <td>[32.765545]</td>\n",
       "    </tr>\n",
       "  </tbody>\n",
       "</table>\n",
       "<p>98 rows × 2 columns</p>\n",
       "</div>"
      ],
      "text/plain": [
       "    Actual Values Predicted Values\n",
       "0            27.0      [25.323439]\n",
       "1            27.0      [29.840864]\n",
       "2            18.0      [15.866565]\n",
       "3            17.0       [19.42424]\n",
       "4            22.0      [20.710434]\n",
       "..            ...              ...\n",
       "93           15.5      [17.254236]\n",
       "94           24.0       [23.47247]\n",
       "95           19.0      [18.075985]\n",
       "96           22.0      [17.130627]\n",
       "97           32.2      [32.765545]\n",
       "\n",
       "[98 rows x 2 columns]"
      ]
     },
     "execution_count": 26,
     "metadata": {},
     "output_type": "execute_result"
    }
   ],
   "source": [
    "pd.DataFrame(list(zip(y_test,y_pred)), columns = ['Actual Values', 'Predicted Values'])"
   ]
  },
  {
   "cell_type": "code",
   "execution_count": 27,
   "id": "1b6e2954",
   "metadata": {
    "execution": {
     "iopub.execute_input": "2022-10-15T11:30:16.179148Z",
     "iopub.status.busy": "2022-10-15T11:30:16.178694Z",
     "iopub.status.idle": "2022-10-15T11:30:16.184237Z",
     "shell.execute_reply": "2022-10-15T11:30:16.183081Z"
    },
    "papermill": {
     "duration": 0.034738,
     "end_time": "2022-10-15T11:30:16.186778",
     "exception": false,
     "start_time": "2022-10-15T11:30:16.152040",
     "status": "completed"
    },
    "tags": []
   },
   "outputs": [],
   "source": [
    "from sklearn.metrics import r2_score"
   ]
  },
  {
   "cell_type": "code",
   "execution_count": 28,
   "id": "8e74afd8",
   "metadata": {
    "execution": {
     "iopub.execute_input": "2022-10-15T11:30:16.240553Z",
     "iopub.status.busy": "2022-10-15T11:30:16.239245Z",
     "iopub.status.idle": "2022-10-15T11:30:16.247458Z",
     "shell.execute_reply": "2022-10-15T11:30:16.246258Z"
    },
    "papermill": {
     "duration": 0.037486,
     "end_time": "2022-10-15T11:30:16.250269",
     "exception": false,
     "start_time": "2022-10-15T11:30:16.212783",
     "status": "completed"
    },
    "tags": []
   },
   "outputs": [
    {
     "data": {
      "text/plain": [
       "0.8666839717054486"
      ]
     },
     "execution_count": 28,
     "metadata": {},
     "output_type": "execute_result"
    }
   ],
   "source": [
    "r2_score(y_test, y_pred)"
   ]
  },
  {
   "cell_type": "code",
   "execution_count": 29,
   "id": "ede0a635",
   "metadata": {
    "execution": {
     "iopub.execute_input": "2022-10-15T11:30:16.304225Z",
     "iopub.status.busy": "2022-10-15T11:30:16.303743Z",
     "iopub.status.idle": "2022-10-15T11:30:16.381667Z",
     "shell.execute_reply": "2022-10-15T11:30:16.380426Z"
    },
    "papermill": {
     "duration": 0.107835,
     "end_time": "2022-10-15T11:30:16.384374",
     "exception": false,
     "start_time": "2022-10-15T11:30:16.276539",
     "status": "completed"
    },
    "tags": []
   },
   "outputs": [
    {
     "name": "stdout",
     "output_type": "stream",
     "text": [
      "4/4 [==============================] - 0s 3ms/step - loss: 7.5975 - mae: 2.0035 - mse: 7.5975\n"
     ]
    }
   ],
   "source": [
    "loss, mae, mse = model.evaluate(X_test, y_test)"
   ]
  },
  {
   "cell_type": "markdown",
   "id": "0aadd7f9",
   "metadata": {
    "execution": {
     "iopub.execute_input": "2022-10-15T11:29:05.362322Z",
     "iopub.status.busy": "2022-10-15T11:29:05.361895Z",
     "iopub.status.idle": "2022-10-15T11:29:05.369755Z",
     "shell.execute_reply": "2022-10-15T11:29:05.368177Z",
     "shell.execute_reply.started": "2022-10-15T11:29:05.362283Z"
    },
    "papermill": {
     "duration": 0.026177,
     "end_time": "2022-10-15T11:30:16.437366",
     "exception": false,
     "start_time": "2022-10-15T11:30:16.411189",
     "status": "completed"
    },
    "tags": []
   },
   "source": [
    "<div style=\"color:white;font-size:25px;font-weight:bolder;background-color:black;text-align:center;padding:15px 0px;border-radius:20px\">Thank You </div> "
   ]
  }
 ],
 "metadata": {
  "kernelspec": {
   "display_name": "Python 3",
   "language": "python",
   "name": "python3"
  },
  "language_info": {
   "codemirror_mode": {
    "name": "ipython",
    "version": 3
   },
   "file_extension": ".py",
   "mimetype": "text/x-python",
   "name": "python",
   "nbconvert_exporter": "python",
   "pygments_lexer": "ipython3",
   "version": "3.7.12"
  },
  "papermill": {
   "default_parameters": {},
   "duration": 30.310947,
   "end_time": "2022-10-15T11:30:19.212205",
   "environment_variables": {},
   "exception": null,
   "input_path": "__notebook__.ipynb",
   "output_path": "__notebook__.ipynb",
   "parameters": {},
   "start_time": "2022-10-15T11:29:48.901258",
   "version": "2.3.4"
  }
 },
 "nbformat": 4,
 "nbformat_minor": 5
}
